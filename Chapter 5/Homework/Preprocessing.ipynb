{
 "cells": [
  {
   "attachments": {},
   "cell_type": "markdown",
   "metadata": {},
   "source": [
    "# Preprocessing Folk- and Mythology Tales\n",
    "This notebook assumes you've downloaded and extracted the [cleaned version](https://www.kaggle.com/datasets/cuddlefish/fairy-tales) of [Folk- and Mythology Tales](https://huggingface.co/datasets/merve/folk-mythology-tales) to `./data/merged_clean.txt`.\n",
    "\n",
    "This is for generating a simple local dataset. For a full tutorial on generating a Hugging Face dataset see [the documentation](https://huggingface.co/docs/datasets/v2.12.0/dataset_script).\n",
    "\n",
    "There are better ways to do this, but since this dataset is so small, I took a quick and dirty approach."
   ]
  },
  {
   "attachments": {},
   "cell_type": "markdown",
   "metadata": {},
   "source": [
    "## Explore Text\n",
    "In order to preprocess this text file into multiple documents, we need to see what we're dealing with. So let's print the some lines and look to see how the tales are split."
   ]
  },
  {
   "cell_type": "code",
   "execution_count": 1,
   "metadata": {},
   "outputs": [
    {
     "name": "stdout",
     "output_type": "stream",
     "text": [
      "\n",
      "Lovely Ilonka\n",
      "\n",
      "There was once a king's son who told his father that he wished to marry.\n",
      "\n",
      "'No, no!' said the king; 'you must not be in such a hurry. Wait till you\n",
      "have done some great deed. My father did not let me marry till I had won\n",
      "the golden sword you see me wear.'\n",
      "\n",
      "The prince was much disappointed, but he never dreamed of disobeying his\n",
      "father, and he began to think with all his might what he could do. It\n",
      "was no use staying at home, so one day he wandered out into the world to\n",
      "try his luck, and as he walked along he came to a little hut in which he\n",
      "found an old woman crouching over the fire.\n",
      "\n",
      "'Good evening, mother. I see you have lived long in this world; do you\n",
      "know anything about the three bulrushes?'\n",
      "\n",
      "'Yes, indeed, I've lived long and been much about in the world, but I\n",
      "have never seen or heard anything of what you ask. Still, if you will\n",
      "wait till to-morrow I may be able to tell you something.'\n",
      "\n",
      "...\n",
      "\n",
      "\n",
      "The next day the king was married, with great rejoicings, to the fair\n",
      "Ilonka; and if they are not yet dead--why, they are still living.\n",
      "\n",
      "\n",
      "\n",
      "\n",
      "\n",
      "\n",
      "Lucky Luck\n",
      "\n",
      "Once upon a time there was a king who had an only son. When the lad was\n",
      "about eighteen years old his father had to go to fight in a war against\n",
      "a neighbouring country, and the king led his troops in person. He bade\n",
      "his son act as Regent in his absence, but ordered him on no account to\n",
      "marry till his return.\n"
     ]
    }
   ],
   "source": [
    "skip = False\n",
    "with open(\"data/merged_clean.txt\", \"r\") as f:\n",
    "    for i in range(200):\n",
    "        line = f.readline()\n",
    "        if 0 <= i <= 20 or 150 <= i <=165:\n",
    "            print(line, end='')\n",
    "        elif not skip:\n",
    "            skip = True\n",
    "            print('\\n...\\n')"
   ]
  },
  {
   "attachments": {},
   "cell_type": "markdown",
   "metadata": {},
   "source": [
    "Our documents appear to have a newline after every sentence, and use four or more newlines to split between tales (documents)."
   ]
  },
  {
   "attachments": {},
   "cell_type": "markdown",
   "metadata": {},
   "source": [
    "## Clean Text\n",
    "First, we want to remove the newline mid-sentence and the double newline between each sentence, which can easily be done with some regex."
   ]
  },
  {
   "cell_type": "code",
   "execution_count": 2,
   "metadata": {},
   "outputs": [],
   "source": [
    "import re\n",
    "\n",
    "with open(\"data/merged_clean.txt\", \"r\") as f:\n",
    "    document = f.read()\n",
    "\n",
    "# Replace all matches of one single newline but not two or more in a row with a space\n",
    "document = re.sub(r\"(?<!\\n)\\n(?!\\n)\", \" \", document)\n",
    "# Replace all matches of two newlines in a row but not three or more in a row with a single newline\n",
    "document = re.sub(r\"(?<!\\n)\\n\\n(?!\\n)\", \"\\n\", document)"
   ]
  },
  {
   "attachments": {},
   "cell_type": "markdown",
   "metadata": {},
   "source": [
    "So now we have paragraphs split by (mostly) single newlines and tales (or documents) split by multiple newlines."
   ]
  },
  {
   "cell_type": "code",
   "execution_count": 3,
   "metadata": {},
   "outputs": [
    {
     "name": "stdout",
     "output_type": "stream",
     "text": [
      " Lovely Ilonka\n",
      "There was once a king's son who told his father that he wished to marry.\n",
      "'No, no!' said the king; 'you must not be in such a hurry. Wait till you have done some great deed. My father did not let me marry till I had won the golden sword you see me wear.'\n",
      "The prince was much disappointed, but he never dreamed of disobeying his father, and he began to think with all his might what he could do. It was no use staying at home, so one day he wandered out into the world to try his luck, and as he walked along he came to a little hut in which he found an old woman crouching over the fire.\n",
      "'Good evening, mother. I see you have lived long in this world; do you know anything about the three bulrushes?'\n",
      "'Yes, indeed, I've lived long and been much about in the world, but I have never seen or heard anything of what you ask. Still, if you will wait till to-morrow I may be able to tell you something.'\n",
      "Well, he waited till the morning, and quite early the old woman appeared and took out a little pipe and blew in it, and in a moment all the crows in the world were flying about her. Not one was missing. Then she asked if they knew anything about the three bulrushes, but not one of them did.\n",
      "The prince went on his way, and a little further on he found another hut in which lived an old man. On being questioned the old man said he knew nothing, but begged the prince to stay overnight, and the next morning the old man called all the ravens together, but they too had nothing to tell.\n",
      "The prince bade him farewell and set out. He wandered so far that he crossed seven kingdoms, and at last, one evening, he came to a little house in which was an old woman.\n",
      "'Good evening, dear mother,' said he politely.\n",
      "'Good evening to you, my dear son,' answered the old woman. 'It is lucky for you that you spoke to me or you would have met with a horrible death. But may I ask where are you going?'\n",
      "\n",
      "...\n",
      "\n",
      "At these words the king's heart bounded within him. He sprang up and embraced and kissed her, and she told him all her adventures since the moment he had left her. And when he heard all that Ilonka had suffered, and how he had been deceived, he vowed he would be revenged; so he gave orders that the swineherd, his wife and daughter should all be hanged; and so they were.\n",
      "The next day the king was married, with great rejoicings, to the fair Ilonka; and if they are not yet dead--why, they are still living.\n",
      "\n",
      "\n",
      "\n",
      "\n",
      "\n",
      "\n",
      "Lucky Luck\n",
      "Once upon a time there was a king who had an only son. When the lad was about eighteen years old his father had to go to fight in a war against a neighbouring country, and the king led his troops in person. He bade his son act as Regent in his absence, but ordered him on no account to marry till his return.\n"
     ]
    }
   ],
   "source": [
    "lines = document.splitlines()\n",
    "skip = False\n",
    "for i, line in enumerate(lines[:40]):\n",
    "    if 0 <= i <= 10 or 30 <= i:\n",
    "        print(line)\n",
    "    elif not skip:\n",
    "        skip = True\n",
    "        print('\\n...\\n')"
   ]
  },
  {
   "attachments": {},
   "cell_type": "markdown",
   "metadata": {},
   "source": [
    "Next, we want to split each tale from the rest. Since we know that each tale is separated by multiple newlines, we can use regex to split into multiple individual tales."
   ]
  },
  {
   "cell_type": "code",
   "execution_count": 4,
   "metadata": {},
   "outputs": [
    {
     "name": "stdout",
     "output_type": "stream",
     "text": [
      " Lovely Ilonka\n",
      "There was once a king's son who told his father that he wished to marry.\n",
      "'No, no!' said the king; 'you must not be in such a hurry. Wait till you have done some great deed. My father did not let me marry till I had won the golden sword you see me wear.'\n",
      "The prince was much disappointed, but he never dreamed of disobeying his father, and he began to think with all his might what he could do. It was no use staying at home, so one day he wandered out into the world to try his luck, and as he walked along he came to a little hut in which he found an old woman crouching over the fire.\n",
      "'Good evening, mother. I see you have lived long in this world; do you know anything about the three bulrushes?'\n",
      "'Yes, indeed, I've lived long and b\n",
      "\n",
      "Lucky Luck\n",
      "Once upon a time there was a king who had an only son. When the lad was about eighteen years old his father had to go to fight in a war against a neighbouring country, and the king led his troops in person. He bade his son act as Regent in his absence, but ordered him on no account to marry till his return.\n",
      "Time went by. The prince ruled the country and never even thought of marrying. But when he reached his twenty-fifth birthday he began to think that it might be rather nice to have a wife, and he thought so much that at last he got quite eager about it. He remembered, however, what his father had said, and waited some time longer, till at last it was ten years since the king went out to war. Then the prince called his courtiers\n",
      "\n"
     ]
    }
   ],
   "source": [
    "# Split the document wherever there are four or more newlines in a row\n",
    "tales = re.split(\"\\n{4,}\", document)\n",
    "for tale in tales[:2]:\n",
    "    print(tale[:750], end='\\n\\n')"
   ]
  },
  {
   "cell_type": "code",
   "execution_count": 5,
   "metadata": {},
   "outputs": [
    {
     "data": {
      "text/plain": [
       "'Lucky Luck\\nOnce upon a time there was a king who had an only son. When the lad was about eighteen years old his father had to go to fight in a war against a neighbouring country, and the king led his troops in person. He bade his son act as Regent in'"
      ]
     },
     "execution_count": 5,
     "metadata": {},
     "output_type": "execute_result"
    }
   ],
   "source": [
    "tales[1][:250]"
   ]
  },
  {
   "attachments": {},
   "cell_type": "markdown",
   "metadata": {},
   "source": [
    "We are left with 1211 tales."
   ]
  },
  {
   "cell_type": "code",
   "execution_count": 6,
   "metadata": {},
   "outputs": [
    {
     "data": {
      "text/plain": [
       "1211"
      ]
     },
     "execution_count": 6,
     "metadata": {},
     "output_type": "execute_result"
    }
   ],
   "source": [
    "len(tales)"
   ]
  },
  {
   "attachments": {},
   "cell_type": "markdown",
   "metadata": {},
   "source": [
    "## Final Processing\n",
    "\n",
    "This method of chunking into sequences is only going to work because the dataset is so small: ~12MB. I'm going to append an end of sequence to all the tales, combine them into one sample, and then chunk them into sequences after tokenization. This is so the model will train on the end of the fairy and mythology tales, and they won't get cut off due to chunking."
   ]
  },
  {
   "cell_type": "code",
   "execution_count": 7,
   "metadata": {},
   "outputs": [
    {
     "data": {
      "text/plain": [
       "{'bos_token': '<|endoftext|>',\n",
       " 'eos_token': '<|endoftext|>',\n",
       " 'unk_token': '<|endoftext|>'}"
      ]
     },
     "execution_count": 7,
     "metadata": {},
     "output_type": "execute_result"
    }
   ],
   "source": [
    "from transformers import AutoTokenizer\n",
    "tokenizer = AutoTokenizer.from_pretrained(\"EleutherAI/pythia-160m-deduped\")\n",
    "tokenizer.special_tokens_map"
   ]
  },
  {
   "attachments": {},
   "cell_type": "markdown",
   "metadata": {},
   "source": [
    "It's important to spot check your dataset, which is how I noticed that the last tale was an empty string. Hence, I removed it. I also know that some tales have multiple newlines in-between paragraphs, so I remove them here."
   ]
  },
  {
   "cell_type": "code",
   "execution_count": 8,
   "metadata": {},
   "outputs": [
    {
     "name": "stdout",
     "output_type": "stream",
     "text": [
      "# Lovely Ilonka\n",
      "There was once a king's son who told his father that he wished to marry.\n",
      "'No, no!' said the king; 'you must not be in such a hurry. Wait till you have done some great deed. My father did not let me marry till I had won the golden sword you see me wear.'\n",
      "The prince was much disappoint\n",
      "\n",
      "...\n",
      "\n",
      "e had been deceived, he vowed he would be revenged; so he gave orders that the swineherd, his wife and daughter should all be hanged; and so they were.\n",
      "The next day the king was married, with great rejoicings, to the fair Ilonka; and if they are not yet dead--why, they are still living.<|endoftext|>\n",
      "\n",
      "# Lucky Luck\n",
      "Once upon a time there was a king who had an only son. When the lad was about eighteen years old his father had to go to fight in a war against a neighbouring country, and the king led his troops in person. He bade his son act as Regent in his absence, but ordered him on no account to m\n",
      "\n",
      "...\n",
      "\n",
      "ul servant alive and well.\n",
      "When the old king saw this he foamed with rage, stared wildly about, flung himself on the ground and died.\n",
      "The servant stayed on with his royal master and served him faithfully all the rest of his life; and, if neither of them is dead, he is serving him still.<|endoftext|>\n",
      "\n"
     ]
    }
   ],
   "source": [
    "processed_tales = []\n",
    "for tale in tales[:-1]:\n",
    "    if tale.startswith(' '):\n",
    "        tale = tale[1:]\n",
    "    tale = re.sub(r\"\\n{2,}\", \"\\n\", tale)\n",
    "    tale = '# ' + tale + tokenizer.special_tokens_map['eos_token']\n",
    "    processed_tales.append(tale)\n",
    "for tale in processed_tales[:2]:\n",
    "    print(tale[:300], end='\\n\\n')\n",
    "    print('...', end='\\n\\n')\n",
    "    print(tale[-300:], end='\\n\\n')"
   ]
  },
  {
   "attachments": {},
   "cell_type": "markdown",
   "metadata": {},
   "source": [
    "Finally, I join all the tales into one string since the tokenizer is going to chunk the dataset for us."
   ]
  },
  {
   "cell_type": "code",
   "execution_count": 9,
   "metadata": {},
   "outputs": [],
   "source": [
    "processed_tales = ''.join(processed_tales)"
   ]
  },
  {
   "attachments": {},
   "cell_type": "markdown",
   "metadata": {},
   "source": [
    "## Convert to Hugging Face Dataset\n",
    "\n",
    "Need to pass in `processed_tales` as a list, or `datasets` will make each string character its own sample."
   ]
  },
  {
   "cell_type": "code",
   "execution_count": 10,
   "metadata": {},
   "outputs": [
    {
     "data": {
      "text/plain": [
       "Dataset({\n",
       "    features: ['tales'],\n",
       "    num_rows: 1\n",
       "})"
      ]
     },
     "execution_count": 10,
     "metadata": {},
     "output_type": "execute_result"
    }
   ],
   "source": [
    "from datasets import Dataset\n",
    "\n",
    "tale_dict = {\"tales\": [processed_tales]}\n",
    "dataset = Dataset.from_dict(tale_dict)\n",
    "dataset"
   ]
  },
  {
   "attachments": {},
   "cell_type": "markdown",
   "metadata": {},
   "source": [
    "## Tokenizing Dataset\n",
    "\n",
    "This tokenization method is taken from the [Training a causal language model from scratch](https://huggingface.co/learn/nlp-course/chapter7/6?fw=pt#preparing-the-dataset) section of the Hugging Face course.\n",
    "\n",
    "It will take the single dataset example, tokenize it and chunk it into `max_sequence_length`, only throwing away the leftover overflow of the last tale (instead of all tales if we processed each individually)."
   ]
  },
  {
   "cell_type": "code",
   "execution_count": 11,
   "metadata": {},
   "outputs": [],
   "source": [
    "from transformers import AutoTokenizer\n",
    "\n",
    "def tokenize(max_sequence_length, tokenizer=\"EleutherAI/pythia-160m-deduped\", name='tales_pythia'):\n",
    "    tokenizer = AutoTokenizer.from_pretrained(tokenizer)\n",
    "    def tokenize_ds(text):\n",
    "        outputs = tokenizer(\n",
    "            text[\"tales\"],\n",
    "            truncation=True,\n",
    "            max_length=max_sequence_length,\n",
    "            return_overflowing_tokens=True,\n",
    "            return_length=True,\n",
    "        )\n",
    "        input_batch = []\n",
    "        for length, input_ids in zip(outputs[\"length\"], outputs[\"input_ids\"]):\n",
    "            if length == max_sequence_length:\n",
    "                input_batch.append(input_ids)\n",
    "        return {\"input_ids\": input_batch}\n",
    "\n",
    "\n",
    "    tokenized_dataset = dataset.map(\n",
    "        tokenize_ds, batched=True, remove_columns=dataset.column_names\n",
    "    )\n",
    "\n",
    "    tokenized_dataset.save_to_disk(f\"data/{name}_{max_sequence_length}.hf\")"
   ]
  },
  {
   "cell_type": "code",
   "execution_count": null,
   "metadata": {},
   "outputs": [],
   "source": [
    "for i in [128, 256, 384, 512, 640, 768, 896, 1024, 1152, 1280]:\n",
    "    tokenize(max_sequence_length=i)"
   ]
  },
  {
   "attachments": {},
   "cell_type": "markdown",
   "metadata": {},
   "source": [
    "There are undoubtably better ways to do this, but since this dataset is so small, quick and dirty is fine."
   ]
  }
 ],
 "metadata": {
  "kernelspec": {
   "display_name": "nlpbook",
   "language": "python",
   "name": "python3"
  },
  "language_info": {
   "codemirror_mode": {
    "name": "ipython",
    "version": 3
   },
   "file_extension": ".py",
   "mimetype": "text/x-python",
   "name": "python",
   "nbconvert_exporter": "python",
   "pygments_lexer": "ipython3",
   "version": "3.10.9"
  },
  "orig_nbformat": 4
 },
 "nbformat": 4,
 "nbformat_minor": 2
}
